{
 "cells": [
  {
   "cell_type": "code",
   "execution_count": 1,
   "metadata": {
    "id": "of-ej629gmHj",
    "outputId": "77a2ab6d-3ad8-4a8a-b11b-ea4712208c47",
    "ExecuteTime": {
     "end_time": "2023-06-05T20:14:29.332121Z",
     "start_time": "2023-06-05T20:14:24.448337Z"
    }
   },
   "outputs": [
    {
     "name": "stdout",
     "output_type": "stream",
     "text": [
      "Loaded 240 images of class CHEETAH\n",
      "Loaded 238 images of class OCELOT\n",
      "Loaded 236 images of class SNOW LEOPARD\n",
      "Loaded 190 images of class CARACAL\n",
      "Loaded 233 images of class LIONS\n",
      "Loaded 241 images of class PUMA\n",
      "Loaded 242 images of class TIGER\n",
      "Loaded 1620 images total.\n",
      "x shape: (1620, 224, 224, 3), y shape:(1620, 7)\n"
     ]
    }
   ],
   "source": [
    "from src import utils\n",
    "imgs, labels = utils.load_imgs('../Wild Cats Dataset', ['CHEETAH' ,'OCELOT', 'SNOW LEOPARD', 'CARACAL', 'LIONS', 'PUMA', 'TIGER'])\n",
    "x, y = utils.make_dataset(imgs, labels, utils.label_to_idx, (224,224))\n",
    "print('x shape: {}, y shape:{}'.format(x.shape, y.shape))\n",
    "utils.plot_sample(imgs, labels, 5, 5, resize=(224, 224))"
   ]
  },
  {
   "cell_type": "code",
   "execution_count": 5,
   "metadata": {
    "id": "QJP2YiQugmHj",
    "ExecuteTime": {
     "end_time": "2023-06-05T20:18:09.107141Z",
     "start_time": "2023-06-05T20:18:08.275480Z"
    }
   },
   "outputs": [
    {
     "name": "stdout",
     "output_type": "stream",
     "text": [
      "T1 accuracy: 45.9877%\n"
     ]
    }
   ],
   "source": [
    "################### Task 1 ###################\n",
    "# Solution go here\n",
    "from src import utils\n",
    "from sklearn.model_selection import train_test_split\n",
    "\n",
    "# Splits dataset into training and test set\n",
    "_, x_test, _, y_test = train_test_split(x / 255, y, stratify=y, test_size=0.2, random_state=0, shuffle=True)\n",
    "\n",
    "file_path = 'T1.h5'\n",
    "T1_model = utils.load_keras_model(file_path)\n",
    "\n",
    "# Evaluate the current model on test set\n",
    "_, accuracy = T1_model.evaluate(x_test, y_test, verbose = 0)\n",
    "print(\"T1 accuracy: {:.4f}\".format(accuracy * 100) + \"%\")"
   ]
  },
  {
   "cell_type": "code",
   "execution_count": 6,
   "metadata": {
    "id": "FXFppoJGgmHj",
    "ExecuteTime": {
     "end_time": "2023-06-05T20:18:13.345803Z",
     "start_time": "2023-06-05T20:18:11.514495Z"
    }
   },
   "outputs": [
    {
     "name": "stdout",
     "output_type": "stream",
     "text": [
      "T1 Bonus accuracy: 20.3704%\n"
     ]
    }
   ],
   "source": [
    "################### Task 1 Bonus ###################\n",
    "# Solution go here\n",
    "from src import utils\n",
    "import numpy as np\n",
    "from sklearn.preprocessing import MinMaxScaler\n",
    "\n",
    "\n",
    "reshaped_data = x.reshape(x.shape[0], -1)\n",
    "\n",
    "# Compute histograms for each sample\n",
    "histograms = []\n",
    "for sample in reshaped_data:\n",
    "    hist, _ = np.histogram(sample, bins=256, range=[0, 256], density=True)\n",
    "    histograms.append(hist)\n",
    "histograms = np.array(histograms)\n",
    "\n",
    "# Normalize histograms\n",
    "scaler = MinMaxScaler()\n",
    "normalized_histograms = scaler.fit_transform(histograms)\n",
    "\n",
    "# Split dataset into training and test set\n",
    "_, x_test, _, y_test = train_test_split(histograms, y, stratify=y, test_size=0.2, random_state=0, shuffle=True)\n",
    "\n",
    "file_path = 'T1_bonus.h5'\n",
    "T1_model = utils.load_keras_model(file_path)\n",
    "\n",
    "_, accuracy = T1_model.evaluate(x_test, y_test, verbose = 0)\n",
    "print(\"T1 Bonus accuracy: {:.4f}\".format(accuracy * 100) + \"%\")"
   ]
  },
  {
   "cell_type": "code",
   "execution_count": 11,
   "outputs": [
    {
     "name": "stdout",
     "output_type": "stream",
     "text": [
      "T2 accuracy: 88.2716%\n"
     ]
    }
   ],
   "source": [
    "################### Task 2 ###################\n",
    "# Solution go here\n",
    "from src import utils\n",
    "\n",
    "# Split dataset into training and test set\n",
    "_, x_test, _, y_test = train_test_split(x / 255, y, stratify=y, test_size=0.2, random_state=0, shuffle=True)\n",
    "\n",
    "file_path = 'T2.h5'\n",
    "T2_model = utils.load_keras_model(file_path)\n",
    "\n",
    "_, accuracy = T2_model.evaluate(x_test, y_test, verbose = 0)\n",
    "print(\"T2 accuracy: {:.4f}\".format(accuracy * 100) + \"%\")"
   ],
   "metadata": {
    "collapsed": false,
    "ExecuteTime": {
     "end_time": "2023-06-05T20:21:40.876821Z",
     "start_time": "2023-06-05T20:21:39.920635Z"
    }
   }
  },
  {
   "cell_type": "code",
   "execution_count": 12,
   "outputs": [
    {
     "name": "stdout",
     "output_type": "stream",
     "text": [
      "T2 Bonus accuracy: 83.3333%\n"
     ]
    }
   ],
   "source": [
    "################### Task 2 Bonus ###################\n",
    "# Solution go here\n",
    "from src import utils\n",
    "\n",
    "# Split dataset into training and test set\n",
    "_, x_test, _, y_test = train_test_split(x / 255, y, stratify=y, test_size=0.2, random_state=0, shuffle=True)\n",
    "\n",
    "file_path = 'T2_best_model.h5'\n",
    "T2_model_bonus = utils.load_keras_model(file_path)\n",
    "\n",
    "_, accuracy = T2_model_bonus.evaluate(x_test, y_test, verbose = 0)\n",
    "print(\"T2 Bonus accuracy: {:.4f}\".format(accuracy * 100) + \"%\")"
   ],
   "metadata": {
    "collapsed": false,
    "ExecuteTime": {
     "end_time": "2023-06-05T20:21:43.500520Z",
     "start_time": "2023-06-05T20:21:42.586966Z"
    }
   }
  },
  {
   "cell_type": "code",
   "execution_count": null,
   "outputs": [],
   "source": [],
   "metadata": {
    "collapsed": false
   }
  }
 ],
 "metadata": {
  "colab": {
   "include_colab_link": true,
   "provenance": []
  },
  "kernelspec": {
   "display_name": "Python 3 (ipykernel)",
   "language": "python",
   "name": "python3"
  },
  "language_info": {
   "codemirror_mode": {
    "name": "ipython",
    "version": 3
   },
   "file_extension": ".py",
   "mimetype": "text/x-python",
   "name": "python",
   "nbconvert_exporter": "python",
   "pygments_lexer": "ipython3",
   "version": "3.9.13"
  }
 },
 "nbformat": 4,
 "nbformat_minor": 1
}
