{
 "cells": [
  {
   "cell_type": "markdown",
   "metadata": {},
   "source": []
  },
  {
   "cell_type": "code",
   "execution_count": null,
   "metadata": {
    "id": "of-ej629gmHj",
    "outputId": "77a2ab6d-3ad8-4a8a-b11b-ea4712208c47",
    "is_executing": true,
    "ExecuteTime": {
     "start_time": "2023-05-15T22:21:52.573843Z"
    }
   },
   "outputs": [
    {
     "name": "stdout",
     "output_type": "stream",
     "text": [
      "Loaded 240 images of class CHEETAH\n",
      "Loaded 238 images of class OCELOT\n",
      "Loaded 236 images of class SNOW LEOPARD\n",
      "Loaded 190 images of class CARACAL\n",
      "Loaded 233 images of class LIONS\n",
      "Loaded 241 images of class PUMA\n",
      "Loaded 242 images of class TIGER\n",
      "Loaded 1620 images total.\n",
      "x shape: (1620, 224, 224, 3), y shape:(1620, 7)\n"
     ]
    }
   ],
   "source": [
    "from src import utils\n",
    "imgs, labels = utils.load_imgs('../Wild Cats Dataset', ['CHEETAH' ,'OCELOT', 'SNOW LEOPARD', 'CARACAL', 'LIONS', 'PUMA', 'TIGER'])\n",
    "x, y = utils.make_dataset(imgs, labels, utils.label_to_idx, (224,224))\n",
    "print('x shape: {}, y shape:{}'.format(x.shape, y.shape))\n",
    "utils.plot_sample(imgs, labels, 5, 5, resize=(224, 224))"
   ]
  },
  {
   "cell_type": "code",
   "execution_count": null,
   "metadata": {
    "id": "QJP2YiQugmHj",
    "is_executing": true
   },
   "outputs": [],
   "source": [
    "################### Task 1 ###################\n",
    "# Solution go here\n",
    "from sklearn.model_selection import train_test_split\n",
    "x_train, x_test, y_train, y_test = train_test_split(x, y, test_size=0.15, random_state=42)\n",
    "print('x_train shape: {}, y_train shape:{}'.format(x_train.shape, y_train.shape))\n",
    "print('x_test shape: {}, y_test shape:{}'.format(x_test.shape, y_test.shape))\n"
   ]
  },
  {
   "cell_type": "code",
   "execution_count": null,
   "metadata": {
    "id": "FXFppoJGgmHj",
    "is_executing": true
   },
   "outputs": [],
   "source": [
    "################### Task 1 Bonus ###################\n",
    "# Solution go here\n",
    "\n",
    "\n",
    "\n",
    "\n"
   ]
  },
  {
   "cell_type": "code",
   "execution_count": null,
   "outputs": [],
   "source": [
    "################### Task 2 ###################\n",
    "# Solution go here\n",
    "\n",
    "\n",
    "\n"
   ],
   "metadata": {
    "collapsed": false
   }
  },
  {
   "cell_type": "code",
   "execution_count": null,
   "outputs": [],
   "source": [
    "################### Task 2 Bonus ###################\n",
    "# Solution go here\n",
    "\n",
    "\n",
    "\n",
    "\n"
   ],
   "metadata": {
    "collapsed": false
   }
  }
 ],
 "metadata": {
  "colab": {
   "include_colab_link": true,
   "provenance": []
  },
  "kernelspec": {
   "display_name": "Python 3 (ipykernel)",
   "language": "python",
   "name": "python3"
  },
  "language_info": {
   "codemirror_mode": {
    "name": "ipython",
    "version": 3
   },
   "file_extension": ".py",
   "mimetype": "text/x-python",
   "name": "python",
   "nbconvert_exporter": "python",
   "pygments_lexer": "ipython3",
   "version": "3.9.13"
  }
 },
 "nbformat": 4,
 "nbformat_minor": 1
}
