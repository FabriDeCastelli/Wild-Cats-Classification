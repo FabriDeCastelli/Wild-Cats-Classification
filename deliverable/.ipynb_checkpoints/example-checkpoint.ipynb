{
 "cells": [
  {
   "cell_type": "markdown",
   "metadata": {},
   "source": []
  },
  {
   "cell_type": "code",
   "execution_count": null,
   "metadata": {
    "ExecuteTime": {
     "start_time": "2023-05-15T10:43:01.460929Z"
    },
    "id": "of-ej629gmHj",
    "is_executing": true,
    "outputId": "77a2ab6d-3ad8-4a8a-b11b-ea4712208c47"
   },
   "outputs": [],
   "source": [
    "from src import utils\n",
    "\n",
    "imgs, labels = utils.load_imgs('../Dataset', ['CHEETAH' ,'OCELOT', 'SNOW LEOPARD', 'CARACAL', 'LIONS', 'PUMA', 'TIGER'])\n",
    "x, y = utils.make_dataset(imgs, labels, utils.label_to_idx, (224,224))\n",
    "print('x shape: {}, y shape:{}'.format(x.shape, y.shape))\n",
    "utils.plot_sample(imgs, labels, 5, 5, resize=(224, 224))"
   ]
  },
  {
   "cell_type": "code",
   "execution_count": null,
   "metadata": {
    "id": "QJP2YiQugmHj",
    "is_executing": true
   },
   "outputs": [],
   "source": [
    "################### Task 1 ###################\n",
    "# Solution go here\n",
    "\n",
    "\n",
    "\n",
    "\n"
   ]
  },
  {
   "cell_type": "code",
   "execution_count": null,
   "metadata": {
    "id": "FXFppoJGgmHj",
    "is_executing": true
   },
   "outputs": [],
   "source": [
    "################### Task 1 Bonus ###################\n",
    "# Solution go here\n",
    "\n",
    "\n",
    "\n",
    "\n"
   ]
  },
  {
   "cell_type": "code",
   "execution_count": null,
   "metadata": {
    "id": "lOPLoKsygmHk",
    "is_executing": true
   },
   "outputs": [],
   "source": [
    "################### Task 2 ###################\n",
    "# Solution go here\n",
    "\n",
    "\n",
    "\n"
   ]
  },
  {
   "cell_type": "code",
   "execution_count": null,
   "metadata": {
    "id": "lcJC6FwhgmHk",
    "is_executing": true
   },
   "outputs": [],
   "source": [
    "################### Task 2 Bonus ###################\n",
    "# Solution go here\n",
    "\n",
    "\n",
    "\n",
    "\n"
   ]
  }
 ],
 "metadata": {
  "colab": {
   "include_colab_link": true,
   "provenance": []
  },
  "kernelspec": {
   "display_name": "Python 3 (ipykernel)",
   "language": "python",
   "name": "python3"
  },
  "language_info": {
   "codemirror_mode": {
    "name": "ipython",
    "version": 3
   },
   "file_extension": ".py",
   "mimetype": "text/x-python",
   "name": "python",
   "nbconvert_exporter": "python",
   "pygments_lexer": "ipython3",
   "version": "3.9.13"
  }
 },
 "nbformat": 4,
 "nbformat_minor": 1
}
